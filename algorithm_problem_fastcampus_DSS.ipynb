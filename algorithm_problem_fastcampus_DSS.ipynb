{
 "cells": [
  {
   "cell_type": "markdown",
   "metadata": {},
   "source": [
    "## Fast Campus DSS+ Algorithm problem 1"
   ]
  },
  {
   "attachments": {},
   "cell_type": "markdown",
   "metadata": {},
   "source": [
    "<img src=\"problems_screenshots/code_test_1207.png\" width=\"800\" height=\"300\" /> "
   ]
  },
  {
   "attachments": {},
   "cell_type": "markdown",
   "metadata": {},
   "source": [
    "<img src=\"problems_screenshots/code_test_1207_1.png\" width=\"800\" height=\"300\" /> "
   ]
  },
  {
   "attachments": {},
   "cell_type": "markdown",
   "metadata": {},
   "source": [
    "<img src=\"problems_screenshots/code_test_1207_2.png\" width=\"800\" height=\"300\" /> "
   ]
  },
  {
   "cell_type": "markdown",
   "metadata": {},
   "source": [
    "### time complexity : N (스테이지 수) * M (유저 수)\n",
    "- O (number of stages * number of players)"
   ]
  },
  {
   "cell_type": "code",
   "execution_count": 35,
   "metadata": {},
   "outputs": [],
   "source": [
    "from collections import Counter\n",
    "def solution(N, stages):\n",
    "    counter = Counter(stages)\n",
    "    res = {x:0 for x in range(1, N+1)}\n",
    "    n_players = len(stages)\n",
    "    \n",
    "    for n in range(1, N+1):\n",
    "        success_rate = counter[n] / n_players\n",
    "        res[n] = success_rate\n",
    "        n_players -= counter[n]\n",
    "        if not n_players: #prevent 0 division error\n",
    "            break\n",
    "    \n",
    "    return sorted(res, key=lambda x: res[x], reverse=True) #sort by value\n",
    "    "
   ]
  },
  {
   "cell_type": "code",
   "execution_count": 38,
   "metadata": {},
   "outputs": [
    {
     "data": {
      "text/plain": [
       "([5, 4, 3, 1, 2, 6, 7, 8, 9, 10], [3, 4, 2, 1, 5], [4, 1, 2, 3])"
      ]
     },
     "execution_count": 38,
     "metadata": {},
     "output_type": "execute_result"
    }
   ],
   "source": [
    "solution(10, [3, 4, 5, 3, 4, 4]), solution(5, [2, 1, 2, 6, 2, 4, 3, 3]), solution(4, [4, 4, 4, 4, 4])"
   ]
  },
  {
   "cell_type": "markdown",
   "metadata": {},
   "source": [
    "## Fast Campus DSS+ Algorithm problem 2"
   ]
  },
  {
   "attachments": {},
   "cell_type": "markdown",
   "metadata": {},
   "source": [
    "<img src=\"problems_screenshots/1207_code_test_sub_1.png\" width=\"800\" height=\"300\" /> "
   ]
  },
  {
   "cell_type": "markdown",
   "metadata": {},
   "source": [
    "<img src=\"problems_screenshots/1207_code_test_sub_2.png\" width=\"300\" height=\"100\" /> "
   ]
  },
  {
   "cell_type": "markdown",
   "metadata": {},
   "source": [
    "### 1. naive approach - brute force: \n",
    "- run a loop from A to B and count all numbers divisible by K\n",
    "- time complexity of this approach whill be O(m - n)"
   ]
  },
  {
   "cell_type": "code",
   "execution_count": 1,
   "metadata": {},
   "outputs": [],
   "source": [
    "def solution(A, B, K):\n",
    "    count = 0\n",
    "    for number in range(A, B+1):\n",
    "        if number % K == 0:\n",
    "            count += 1\n",
    "    return count"
   ]
  },
  {
   "cell_type": "markdown",
   "metadata": {},
   "source": [
    "https://www.geeksforgeeks.org/count-total-divisors-b-given-range/"
   ]
  },
  {
   "cell_type": "markdown",
   "metadata": {},
   "source": [
    "### 2. efficient approach"
   ]
  },
  {
   "cell_type": "code",
   "execution_count": 1,
   "metadata": {},
   "outputs": [],
   "source": [
    "from math import ceil"
   ]
  },
  {
   "cell_type": "code",
   "execution_count": 6,
   "metadata": {},
   "outputs": [],
   "source": [
    "def solution(A, B, K):\n",
    "    start_n = ceil(A/K)\n",
    "    end_n = B // K\n",
    "    return len(range(start_n, end_n+1))"
   ]
  },
  {
   "cell_type": "markdown",
   "metadata": {},
   "source": [
    "### Advanced: Count total divisors of A or B in a given range\n",
    "- Given four integers m, n, a, b. Find how many integers from range m to n are divisible by a or b"
   ]
  },
  {
   "cell_type": "code",
   "execution_count": 45,
   "metadata": {},
   "outputs": [],
   "source": [
    "def gcd(x, y): # find greatest common divisor\n",
    "    if x > y:\n",
    "        small = y\n",
    "    else:\n",
    "        small = x\n",
    "    for i in range(1, small+1):\n",
    "        if (x % i == 0) and (y % i == 0):\n",
    "            gcd = i\n",
    "    return gcd\n",
    "\n",
    "def findLCM(a, b): # find least common multiple\n",
    "    return (a * b) / gcd(a, b)\n",
    "\n",
    "def solution(m, n, a, b):\n",
    "    lcm = findLCM(a, b)\n",
    "    \n",
    "    a_multiple = len(range(ceil(m/a), n//a+1))\n",
    "    b_multiple = len(range(ceil(m/b), n//b+1))\n",
    "    \n",
    "    # to subtract common multiple from a_multiple + b_multiple to exclude redundant numbers\n",
    "    common_multiple = ceil(n//lcm - m/lcm) \n",
    "\n",
    "    res = a_multiple + b_multiple - common_multiple\n",
    "    return res\n"
   ]
  },
  {
   "cell_type": "code",
   "execution_count": 46,
   "metadata": {},
   "outputs": [
    {
     "data": {
      "text/plain": [
       "(6, 190475)"
      ]
     },
     "execution_count": 46,
     "metadata": {},
     "output_type": "execute_result"
    }
   ],
   "source": [
    "solution(3,11,2,3), solution(11, 1000000, 6, 35)"
   ]
  }
 ],
 "metadata": {
  "kernelspec": {
   "display_name": "Python 3",
   "language": "python",
   "name": "python3"
  },
  "language_info": {
   "codemirror_mode": {
    "name": "ipython",
    "version": 3
   },
   "file_extension": ".py",
   "mimetype": "text/x-python",
   "name": "python",
   "nbconvert_exporter": "python",
   "pygments_lexer": "ipython3",
   "version": "3.7.2"
  }
 },
 "nbformat": 4,
 "nbformat_minor": 2
}

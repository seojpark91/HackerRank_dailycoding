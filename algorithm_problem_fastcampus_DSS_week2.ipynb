{
 "cells": [
  {
   "cell_type": "markdown",
   "metadata": {},
   "source": [
    "## Main Quiz\n",
    "N개의 정수 요소를 가지는 리스트 A가 있습니다.   \n",
    "리스트A에서 가장 많이 등장하는 숫자가 전체에서 절반을 넘는다면,    \n",
    "그 숫자가 등장하는 index중 하나를 리턴하는 함수를 만드세요.    \n",
    "> 만약 절반넘게 등장하는 숫자가 없으면 -1을 리턴합니다    \n",
    "\n",
    "`def solution(A):`\n",
    "\n",
    "\n",
    "        \n",
    "  * A의 길이는 0부터 10만   \n",
    "  * 각각의 요소는 -20억부터 +20억까지의 숫자중 하나   \n",
    "  \n",
    "예 )\n",
    "\n",
    "`A = [3, 4, 3, 2, 3, -1, 3, 3]` 에서\n",
    "\n",
    "1. 가장 많이 등장하는 숫자는 3 \n",
    "2. 3은 총 5번 등장 \n",
    "3. 리스트의 요소 총 8개중에서 절반을 넘는다\n",
    "4. 리스트A에서 3의 인덱스인 `0`, `2`, `4`, `6`, `7` 중 하나를 리턴합니다."
   ]
  },
  {
   "cell_type": "code",
   "execution_count": 5,
   "metadata": {},
   "outputs": [],
   "source": [
    "def solution(A):\n",
    "    counter = {}\n",
    "    for index, number in enumerate(A):\n",
    "        if number not in counter:\n",
    "            counter[number] = [index, 1]\n",
    "        else:\n",
    "            counter[number][1] +=1\n",
    "    max_count = max(counter, key=lambda number: counter[number][1])\n",
    "    \n",
    "    if counter:\n",
    "        if counter[max_count][1] > len(A)//2:\n",
    "            return counter[max_count][0]\n",
    "        else:\n",
    "            return -1"
   ]
  },
  {
   "cell_type": "code",
   "execution_count": 6,
   "metadata": {},
   "outputs": [
    {
     "data": {
      "text/plain": [
       "(1, 0, -1)"
      ]
     },
     "execution_count": 6,
     "metadata": {},
     "output_type": "execute_result"
    }
   ],
   "source": [
    "A = [1, 4, 4, 4, 4, 4, 4, 9]\n",
    "B = [3, 4, 3, 2, 3, -1, 3, 3] \n",
    "C = [3, 4, 3, 2, 3, -1, 3, 3, 1, 4, 4, 4, 4, 4, 4, 9, 400, 100000, 100000, 3000,2000,4, 7, 3, -100, 200, -800] \n",
    "solution(A), solution(B), solution(C)"
   ]
  },
  {
   "cell_type": "markdown",
   "metadata": {},
   "source": [
    "## 회문 \n",
    "\n",
    "문자열의 순서를 뒤집었을때도, 같은 문자를 회문이라고 합니다.\n",
    "갓 입사한 신입 개발자 김영태는 이러한 회문을 검증하는 함수를 만들라는 사수의 지시를 받았습니다.\n",
    "동시에 다음과 같은 불친절한(?) 같은 요구도 받았습니다.\n",
    "다음에 나오는 내용을 최대한 준수하며 코드를 작성하도록 해보세요.\n",
    "\n",
    "`def palindrome(string):`\n",
    "\n",
    "1. 회문이면 `True`, 아니면 `False`를 리턴하는 형태를 요구 받았다.\n",
    "2. 대소문자를 구문하지 않고 비교해야한다.\n",
    "3. 모든 특수문자들은 무시하고 비교해야한다.\n",
    "4. \"무시하고자하는 특수문자는 하나하나 타이핑을 해서 코드에 때려박는 경우 신뢰성이 저하되지 않겠니?\" 라고 한다.\n",
    "5. 그러니 \"`string`모듈에서 적절한 기능(속성)이 있는지 탐색해봐.\" 라고 지시 받았다.\n",
    "6. 그러면서 \"문자를 제거할때 replace처럼 하나하나 제거하는것보다 한번에 지우는 방법은 없을까? 찾아보고 있으면 해보고 알려줘\" 라는 이야기도 들었다. \n",
    "7. 가능한 빠르게 결론을 내려야한다.\n",
    "8. 문자열을 다 뒤집고 비교하지말고, 전부 뒤집기 전에 결론을 내라고 한다.\n",
    "  "
   ]
  },
  {
   "cell_type": "code",
   "execution_count": 7,
   "metadata": {},
   "outputs": [],
   "source": [
    "from string import punctuation\n",
    "def parlindrome(string):\n",
    "   \n",
    "    if len(string):\n",
    "        string = string.lower().translate(str.maketrans(punctuation, ' '*len(punctuation))).replace(' ', '')\n",
    "        n_compare = len(string)//2\n",
    "        for i in range(n_compare):\n",
    "            if string[i] != string[-i-1]:\n",
    "                return False\n",
    "        return True\n",
    "    return False"
   ]
  },
  {
   "cell_type": "code",
   "execution_count": 12,
   "metadata": {},
   "outputs": [
    {
     "data": {
      "text/plain": [
       "(True, True, False)"
      ]
     },
     "execution_count": 12,
     "metadata": {},
     "output_type": "execute_result"
    }
   ],
   "source": [
    "parlindrome('aBcDEFEdcbA'), parlindrome('a'),parlindrome('ab')"
   ]
  }
 ],
 "metadata": {
  "kernelspec": {
   "display_name": "Python 3",
   "language": "python",
   "name": "python3"
  },
  "language_info": {
   "codemirror_mode": {
    "name": "ipython",
    "version": 3
   },
   "file_extension": ".py",
   "mimetype": "text/x-python",
   "name": "python",
   "nbconvert_exporter": "python",
   "pygments_lexer": "ipython3",
   "version": "3.7.2"
  }
 },
 "nbformat": 4,
 "nbformat_minor": 2
}
